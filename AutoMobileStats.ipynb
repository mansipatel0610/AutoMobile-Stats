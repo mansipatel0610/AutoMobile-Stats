{
  "nbformat": 4,
  "nbformat_minor": 0,
  "metadata": {
    "colab": {
      "provenance": []
    },
    "kernelspec": {
      "name": "python3",
      "display_name": "Python 3"
    },
    "language_info": {
      "name": "python"
    }
  },
  "cells": [
    {
      "cell_type": "code",
      "source": [
        "!pip install pyngrok"
      ],
      "metadata": {
        "colab": {
          "base_uri": "https://localhost:8080/"
        },
        "id": "rjai4xxcTECi",
        "outputId": "225a012b-0c7e-4d79-feaf-6067f0ae8436"
      },
      "execution_count": 1,
      "outputs": [
        {
          "output_type": "stream",
          "name": "stdout",
          "text": [
            "Collecting pyngrok\n",
            "  Downloading pyngrok-7.1.6-py3-none-any.whl (22 kB)\n",
            "Requirement already satisfied: PyYAML>=5.1 in /usr/local/lib/python3.10/dist-packages (from pyngrok) (6.0.1)\n",
            "Installing collected packages: pyngrok\n",
            "Successfully installed pyngrok-7.1.6\n"
          ]
        }
      ]
    },
    {
      "cell_type": "code",
      "source": [
        "from pyngrok import ngrok\n",
        "ngrok.kill()\n",
        "NGROK_AUTH_TOKEN = \"2egVtatOWP26qD7s3b9a0gaxTHV_3n9VePusrPmygyyqjCCav\"\n",
        "ngrok.set_auth_token(NGROK_AUTH_TOKEN)\n",
        "ngrok.connect(8050)"
      ],
      "metadata": {
        "colab": {
          "base_uri": "https://localhost:8080/"
        },
        "id": "x874K0RwTDxq",
        "outputId": "7055c9d2-9b0e-4d9a-b7cd-6739ed70cd6d"
      },
      "execution_count": 2,
      "outputs": [
        {
          "output_type": "stream",
          "name": "stdout",
          "text": []
        },
        {
          "output_type": "execute_result",
          "data": {
            "text/plain": [
              "<NgrokTunnel: \"https://965e-34-125-48-250.ngrok-free.app\" -> \"http://localhost:8050\">"
            ]
          },
          "metadata": {},
          "execution_count": 2
        }
      ]
    },
    {
      "cell_type": "code",
      "execution_count": 3,
      "metadata": {
        "colab": {
          "base_uri": "https://localhost:8080/",
          "height": 1000
        },
        "id": "ZY6s6jJY0Uaj",
        "outputId": "75b6c8ee-2ea7-4147-cb9c-4afd804462d8"
      },
      "outputs": [
        {
          "output_type": "stream",
          "name": "stdout",
          "text": [
            "Collecting dash\n",
            "  Downloading dash-2.16.1-py3-none-any.whl (10.2 MB)\n",
            "\u001b[2K     \u001b[90m━━━━━━━━━━━━━━━━━━━━━━━━━━━━━━━━━━━━━━━━\u001b[0m \u001b[32m10.2/10.2 MB\u001b[0m \u001b[31m20.8 MB/s\u001b[0m eta \u001b[36m0:00:00\u001b[0m\n",
            "\u001b[?25hRequirement already satisfied: Flask<3.1,>=1.0.4 in /usr/local/lib/python3.10/dist-packages (from dash) (2.2.5)\n",
            "Requirement already satisfied: Werkzeug<3.1 in /usr/local/lib/python3.10/dist-packages (from dash) (3.0.2)\n",
            "Requirement already satisfied: plotly>=5.0.0 in /usr/local/lib/python3.10/dist-packages (from dash) (5.15.0)\n",
            "Collecting dash-html-components==2.0.0 (from dash)\n",
            "  Downloading dash_html_components-2.0.0-py3-none-any.whl (4.1 kB)\n",
            "Collecting dash-core-components==2.0.0 (from dash)\n",
            "  Downloading dash_core_components-2.0.0-py3-none-any.whl (3.8 kB)\n",
            "Collecting dash-table==5.0.0 (from dash)\n",
            "  Downloading dash_table-5.0.0-py3-none-any.whl (3.9 kB)\n",
            "Requirement already satisfied: importlib-metadata in /usr/local/lib/python3.10/dist-packages (from dash) (7.1.0)\n",
            "Requirement already satisfied: typing-extensions>=4.1.1 in /usr/local/lib/python3.10/dist-packages (from dash) (4.10.0)\n",
            "Requirement already satisfied: requests in /usr/local/lib/python3.10/dist-packages (from dash) (2.31.0)\n",
            "Collecting retrying (from dash)\n",
            "  Downloading retrying-1.3.4-py3-none-any.whl (11 kB)\n",
            "Requirement already satisfied: nest-asyncio in /usr/local/lib/python3.10/dist-packages (from dash) (1.6.0)\n",
            "Requirement already satisfied: setuptools in /usr/local/lib/python3.10/dist-packages (from dash) (67.7.2)\n",
            "Requirement already satisfied: Jinja2>=3.0 in /usr/local/lib/python3.10/dist-packages (from Flask<3.1,>=1.0.4->dash) (3.1.3)\n",
            "Requirement already satisfied: itsdangerous>=2.0 in /usr/local/lib/python3.10/dist-packages (from Flask<3.1,>=1.0.4->dash) (2.1.2)\n",
            "Requirement already satisfied: click>=8.0 in /usr/local/lib/python3.10/dist-packages (from Flask<3.1,>=1.0.4->dash) (8.1.7)\n",
            "Requirement already satisfied: tenacity>=6.2.0 in /usr/local/lib/python3.10/dist-packages (from plotly>=5.0.0->dash) (8.2.3)\n",
            "Requirement already satisfied: packaging in /usr/local/lib/python3.10/dist-packages (from plotly>=5.0.0->dash) (24.0)\n",
            "Requirement already satisfied: MarkupSafe>=2.1.1 in /usr/local/lib/python3.10/dist-packages (from Werkzeug<3.1->dash) (2.1.5)\n",
            "Requirement already satisfied: zipp>=0.5 in /usr/local/lib/python3.10/dist-packages (from importlib-metadata->dash) (3.18.1)\n",
            "Requirement already satisfied: charset-normalizer<4,>=2 in /usr/local/lib/python3.10/dist-packages (from requests->dash) (3.3.2)\n",
            "Requirement already satisfied: idna<4,>=2.5 in /usr/local/lib/python3.10/dist-packages (from requests->dash) (3.6)\n",
            "Requirement already satisfied: urllib3<3,>=1.21.1 in /usr/local/lib/python3.10/dist-packages (from requests->dash) (2.0.7)\n",
            "Requirement already satisfied: certifi>=2017.4.17 in /usr/local/lib/python3.10/dist-packages (from requests->dash) (2024.2.2)\n",
            "Requirement already satisfied: six>=1.7.0 in /usr/local/lib/python3.10/dist-packages (from retrying->dash) (1.16.0)\n",
            "Installing collected packages: dash-table, dash-html-components, dash-core-components, retrying, dash\n",
            "Successfully installed dash-2.16.1 dash-core-components-2.0.0 dash-html-components-2.0.0 dash-table-5.0.0 retrying-1.3.4\n"
          ]
        },
        {
          "output_type": "display_data",
          "data": {
            "text/plain": [
              "<IPython.core.display.Javascript object>"
            ],
            "application/javascript": [
              "(async (port, path, width, height, cache, element) => {\n",
              "    if (!google.colab.kernel.accessAllowed && !cache) {\n",
              "      return;\n",
              "    }\n",
              "    element.appendChild(document.createTextNode(''));\n",
              "    const url = await google.colab.kernel.proxyPort(port, {cache});\n",
              "    const iframe = document.createElement('iframe');\n",
              "    iframe.src = new URL(path, url).toString();\n",
              "    iframe.height = height;\n",
              "    iframe.width = width;\n",
              "    iframe.style.border = 0;\n",
              "    iframe.allow = [\n",
              "        'accelerometer',\n",
              "        'autoplay',\n",
              "        'camera',\n",
              "        'clipboard-read',\n",
              "        'clipboard-write',\n",
              "        'gyroscope',\n",
              "        'magnetometer',\n",
              "        'microphone',\n",
              "        'serial',\n",
              "        'usb',\n",
              "        'xr-spatial-tracking',\n",
              "    ].join('; ');\n",
              "    element.appendChild(iframe);\n",
              "  })(8050, \"/\", \"100%\", 650, false, window.element)"
            ]
          },
          "metadata": {}
        }
      ],
      "source": [
        "#!/usr/bin/env python\n",
        "# coding: utf-8\n",
        "\n",
        "# In[ ]:\n",
        "\n",
        "!pip install dash\n",
        "import dash\n",
        "from dash import dcc\n",
        "from dash import html\n",
        "from dash.dependencies import Input, Output\n",
        "import pandas as pd\n",
        "import plotly.graph_objs as go\n",
        "import plotly.express as px\n",
        "\n",
        "# Load the data using pandas\n",
        "data = pd.read_csv('https://cf-courses-data.s3.us.cloud-object-storage.appdomain.cloud/IBMDeveloperSkillsNetwork-DV0101EN-SkillsNetwork/Data%20Files/historical_automobile_sales.csv')\n",
        "\n",
        "# Initialize the Dash app\n",
        "app = dash.Dash(__name__)\n",
        "\n",
        "# Set the title of the dashboard\n",
        "app.title = \"Automobile Sales Statistics Dashboard\"\n",
        "\n",
        "#---------------------------------------------------------------------------------\n",
        "# Create the dropdown menu options\n",
        "dropdown_options = [\n",
        "    {'label': 'Yearly Statistics', 'value': 'Yearly Statistics'},\n",
        "    {'label': 'Recession Period Statistics', 'value': 'Recession Period Statistics'}\n",
        "]\n",
        "# List of years\n",
        "year_list = [i for i in range(1980, 2024, 1)]\n",
        "#---------------------------------------------------------------------------------------\n",
        "# Create the layout of the app\n",
        "app.layout = html.Div([\n",
        "    #TASK 2.1 Add title to the dashboard\n",
        "    html.H1(\"Automobile Sales Statistics Dashboard\",style={'textAlign': 'center', 'color':'#503D36', 'font-size': 24}),\n",
        "    html.Div([#TASK 2.2: Add two dropdown menus\n",
        "        html.Label(\"Select Statistics:\"),\n",
        "        dcc.Dropdown(\n",
        "            id='dropdown-statistics',\n",
        "            options=[\n",
        "                    {'label': 'Yearly Statistics', 'value': 'Yearly Statistics'},\n",
        "                    {'label': 'Recession Period Statistics', 'value': 'Recession Period Statistics'}\n",
        "                    ],\n",
        "            value='Select Statistics',\n",
        "            placeholder='Select a report type'\n",
        "        )\n",
        "    ]),\n",
        "    html.Div(dcc.Dropdown(\n",
        "            id='select-year',\n",
        "            options=[{'label': i, 'value': i} for i in year_list],\n",
        "            #value='year_list[0]'\n",
        "        )),\n",
        "    html.Div([#TASK 2.3: Add a division for output display\n",
        "    html.Div(id='output-container', className='chart-grid', style={'display':'flex'}),])\n",
        "])\n",
        "#TASK 2.4: Creating Callbacks\n",
        "# Define the callback function to update the input container based on the selected statistics\n",
        "@app.callback(\n",
        "    Output(component_id='select-year', component_property='disabled'),\n",
        "    Input(component_id='dropdown-statistics',component_property='value'))\n",
        "\n",
        "def update_input_container(selected_statistics):\n",
        "    if selected_statistics =='Yearly Statistics':\n",
        "        return False\n",
        "    else:\n",
        "        return True\n",
        "\n",
        "#Callback for plotting\n",
        "# Define the callback function to update the input container based on the selected statistics\n",
        "@app.callback(\n",
        "    Output(component_id='output-container', component_property='children'),\n",
        "    [Input(component_id='select-year', component_property='value'), Input(component_id='dropdown-statistics', component_property='value')])\n",
        "\n",
        "\n",
        "def update_output_container(selected_year,selected_statistics):\n",
        "    if selected_statistics == 'Recession Period Statistics':\n",
        "        # Filter the data for recession periods\n",
        "        recession_data = data[data['Recession'] == 1]\n",
        "\n",
        "#TASK 2.5: Creating Graphs\n",
        "\n",
        "#Plot 1 Automobile sales fluctuate over Recession Period (year wise)\n",
        "        # use groupby to create relevant data for plotting\n",
        "        yearly_rec=recession_data.groupby('Year')['Automobile_Sales'].mean().reset_index()\n",
        "        R_chart1 = dcc.Graph(\n",
        "            figure=px.line(yearly_rec,\n",
        "                x='Year',\n",
        "                y='Automobile_Sales',\n",
        "                title=\"Average Automobile Sales fluctuation over Recession Period\"))\n",
        "\n",
        "#Plot 2 Calculate the average number of vehicles sold by vehicle type\n",
        "        # use groupby to create relevant data for plotting\n",
        "        average_sales = data.groupby(['Year', 'Vehicle_Type'])['Automobile_Sales'].mean().reset_index()\n",
        "        R_chart2 = dcc.Graph(figure=px.bar(average_sales, x='Vehicle_Type', y='Automobile_Sales',\n",
        "                                           title='Average Number of Vehicles Sold by Vehicle Type during Recessions'))\n",
        "\n",
        "# Plot 3 Pie chart for total expenditure share by vehicle type during recessions\n",
        "        # use groupby to create relevant data for plotting\n",
        "        exp_rec = recession_data.groupby('Vehicle_Type')['Advertising_Expenditure'].sum().reset_index()\n",
        "        R_chart3 = dcc.Graph(figure=px.pie(exp_rec, values='Advertising_Expenditure', names='Vehicle_Type',\n",
        "                                          title='Total Expenditure Share by Vehicle Type during Recessions'))\n",
        "\n",
        "# Plot 4 bar chart for the effect of unemployment rate on vehicle type and sales\n",
        "        unemp_data = recession_data.groupby(['unemployment_rate', 'Vehicle_Type'])['Automobile_Sales'].mean().reset_index()\n",
        "        R_chart4 = dcc.Graph(figure=px.bar(unemp_data, x='Vehicle_Type', y='Automobile_Sales', color='unemployment_rate',\n",
        "                                           barmode='group', title='Effect of Unemployment Rate on Vehicle Type and Sales during Recessions'))\n",
        "\n",
        "#TASK 2.6: Returning the graphs for display\n",
        "        return [\n",
        "            html.Div(className='chart-item', children=[html.Div(children=R_chart1),html.Div(children=R_chart2)],style={'display':'flex'}),\n",
        "            html.Div(className='chart-item', children=[html.Div(children=R_chart3),html.Div(children=R_chart4)],style={'display':'flex'})\n",
        "            ]\n",
        " # Yearly Statistic Repot Plots\n",
        "    elif (selected_year and selected_statistics=='Yearly Statistics') :\n",
        "        yearly_data = data[data['Year'] == selected_year]\n",
        "\n",
        "#TASK 2.5: Creating Graphs\n",
        "\n",
        " # Plot 1 Yearly Automobile sales using line chart for the whole period.\n",
        "        yas = data.groupby('Year')['Automobile_Sales'].mean().reset_index()\n",
        "        Y_chart1 = dcc.Graph(figure=px.line(yas, x='Automobile_Sales', y='Year',\n",
        "                                            title='Yearly Automobile Sales Trend'))\n",
        "\n",
        "        # Plot 2 Total Monthly Automobile sales using line chart.\n",
        "        monthly_sales = yearly_data.groupby('Month')['Automobile_Sales'].sum().reset_index()\n",
        "        Y_chart2 = dcc.Graph(figure=px.line(monthly_sales, x='Month', y='Automobile_Sales',\n",
        "                                            title='Total Monthly Automobile Sales'))\n",
        "\n",
        "        # Plot 3 bar chart for average number of vehicles sold during the given year\n",
        "        avr_vdata = yearly_data.groupby('Vehicle_Type')['Automobile_Sales'].mean().reset_index()\n",
        "        Y_chart3 = dcc.Graph(figure=px.bar(avr_vdata, x='Vehicle_Type', y='Automobile_Sales',\n",
        "                                           title='Average Vehicles Sold by Vehicle Type in the year {}'.format(selected_year)))\n",
        "\n",
        "        # Total Advertisement Expenditure for each vehicle using pie chart\n",
        "        exp_data = yearly_data.groupby('Vehicle_Type')['Advertising_Expenditure'].sum().reset_index()\n",
        "        Y_chart4 = dcc.Graph(figure=px.pie(exp_data, values='Advertising_Expenditure', names='Vehicle_Type',\n",
        "                                          title='Total Advertisement Expenditure Share by Vehicle Type in the year {}'.format(selected_year)))\n",
        "#TASK 2.6: Returning the graphs for display\n",
        "        return [\n",
        "                html.Div(className='chart-item', children=[html.Div(children=Y_chart1),html.Div(children=Y_chart2)],style={'display':'flex'}),\n",
        "                html.Div(className='chart-item', children=[html.Div(children=Y_chart3), html.Div(children=Y_chart4)],style={'display':'flex'})\n",
        "                ]\n",
        "\n",
        "    else:\n",
        "        return None\n",
        "\n",
        "# Run the Dash app\n",
        "if __name__ == '__main__':\n",
        "    app.run_server(debug=True)\n",
        "\n",
        "\n"
      ]
    },
    {
      "cell_type": "code",
      "source": [],
      "metadata": {
        "id": "oCiiuUyT0s00"
      },
      "execution_count": null,
      "outputs": []
    }
  ]
}